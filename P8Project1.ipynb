{
 "cells": [
  {
   "cell_type": "code",
   "execution_count": 1,
   "id": "2787bf91",
   "metadata": {},
   "outputs": [],
   "source": [
    "import mysql.connector\n"
   ]
  },
  {
   "cell_type": "code",
   "execution_count": 2,
   "id": "498cb34e",
   "metadata": {},
   "outputs": [
    {
     "name": "stdout",
     "output_type": "stream",
     "text": [
      "<mysql.connector.connection.MySQLConnection object at 0x00000227A8252D30>\n"
     ]
    }
   ],
   "source": [
    "mydb = mysql.connector.connect(\n",
    "    host=\"localhost\",\n",
    "    user=\"root\",\n",
    "    password=\"\"\n",
    ")\n",
    "print(mydb)\n",
    "mycursor=mydb.cursor(buffered=True)"
   ]
  },
  {
   "cell_type": "code",
   "execution_count": 5,
   "id": "6b7bcef1",
   "metadata": {},
   "outputs": [],
   "source": [
    "mycursor.execute(\"CREATE DATABASE school_new\")"
   ]
  },
  {
   "cell_type": "code",
   "execution_count": 14,
   "id": "3f2538cc",
   "metadata": {},
   "outputs": [],
   "source": [
    "mycursor.execute(\"Use school_new\")"
   ]
  },
  {
   "cell_type": "code",
   "execution_count": 11,
   "id": "c85966d3",
   "metadata": {},
   "outputs": [],
   "source": [
    "mycursor.execute(\"CREATE TABLE student(student_id INT PRIMARY KEY,student_name VARCHAR(40),aadhar_number INT(12),father_name VARCHAR(40),mother_name VARCHAR(40),mobile INT(10) NOT NULL,Class INT(3) NOT NULL,section VARCHAR(3) NOT NULL)\")\n",
    "\n",
    "\n"
   ]
  },
  {
   "cell_type": "code",
   "execution_count": 31,
   "id": "32f5c5d1",
   "metadata": {},
   "outputs": [],
   "source": [
    "mycursor.execute(\"ALTER TABLE student_details CHANGE COLUMN mobile mobile INT \")"
   ]
  },
  {
   "cell_type": "code",
   "execution_count": 12,
   "id": "616b254d",
   "metadata": {},
   "outputs": [],
   "source": [
    "mydb.commit()"
   ]
  },
  {
   "cell_type": "code",
   "execution_count": 82,
   "id": "4aecf943",
   "metadata": {},
   "outputs": [],
   "source": [
    "mycursor.execute(\"CREATE TABLE total_marks(student_id INT,Quaterly INT,Halfyearly INT,Annual INT,FOREIGN KEY(student_id) REFERENCES student_details(student_id) ON DELETE CASCADE)\")\n"
   ]
  },
  {
   "cell_type": "code",
   "execution_count": 83,
   "id": "6e1b8552",
   "metadata": {},
   "outputs": [],
   "source": [
    "mydb.commit()"
   ]
  },
  {
   "cell_type": "code",
   "execution_count": 20,
   "id": "21d2c3f7",
   "metadata": {},
   "outputs": [],
   "source": [
    "mycursor.execute(\"CREATE TABLE quaterly_marks(student_id INT,maths INT ,science INT,social INT,english INT,FOREIGN KEY(student_id) REFERENCES student(student_id) ON DELETE CASCADE)\")\n"
   ]
  },
  {
   "cell_type": "code",
   "execution_count": 24,
   "id": "edec6d6a",
   "metadata": {},
   "outputs": [],
   "source": [
    "\n",
    "mycursor.execute(\"CREATE TABLE halfyearly_marks(student_id INT,maths INT ,science INT,social INT,english INT,total INT,result VARCHAR(4),FOREIGN KEY(student_id) REFERENCES student(student_id) ON DELETE CASCADE)\")"
   ]
  },
  {
   "cell_type": "code",
   "execution_count": 25,
   "id": "0eba1b30",
   "metadata": {},
   "outputs": [],
   "source": [
    "\n",
    "mycursor.execute(\"CREATE TABLE annual_marks(student_id INT,maths INT ,science INT,social INT,english INT,total INT,result VARCHAR(4),FOREIGN KEY(student_id) REFERENCES student(student_id) ON DELETE CASCADE)\")\n"
   ]
  },
  {
   "cell_type": "code",
   "execution_count": null,
   "id": "7a8083ac",
   "metadata": {},
   "outputs": [],
   "source": []
  },
  {
   "cell_type": "code",
   "execution_count": 53,
   "id": "e8c1e9ee",
   "metadata": {},
   "outputs": [],
   "source": [
    "mycursor.execute(\"ALTER TABLE quaterly_marks ADD(total INT ,result VARCHAR(4)) \")"
   ]
  },
  {
   "cell_type": "code",
   "execution_count": 26,
   "id": "b8b8fc5f",
   "metadata": {},
   "outputs": [],
   "source": [
    "mycursor.execute(\"RENAME TABLE student TO student_details\")"
   ]
  },
  {
   "cell_type": "code",
   "execution_count": 46,
   "id": "29ff9187",
   "metadata": {},
   "outputs": [],
   "source": [
    "mydb.commit()"
   ]
  },
  {
   "cell_type": "code",
   "execution_count": 69,
   "id": "07f6596b",
   "metadata": {},
   "outputs": [],
   "source": [
    "mycursor.execute(\"INSERT INTO student_details VALUES(501,'Sainik','654268956542','Veernayak','Roshini','9564826548',5,'A')\")\n",
    "mycursor.execute(\"INSERT INTO student_details VALUES(502,'Ranvesh','856426987552','Ramesh','Tejapriya','8547625695',5,'A')\")\n",
    "mycursor.execute(\"INSERT INTO student_details VALUES(503,'Kashi','845165987568','Shivaji','Vimala','9785426845',5,'B')\")\n",
    "mycursor.execute(\"INSERT INTO student_details VALUES(504,'Shogun','584269874521','Rampratap','Swarna','9542631858',5,'B')\")\n",
    "mycursor.execute(\"INSERT INTO student_details VALUES(505,'Komal','685236478952','Valmiki','Damyanthi','7236548952',5,'A')\")\n",
    "mydb.commit()"
   ]
  },
  {
   "cell_type": "code",
   "execution_count": 70,
   "id": "91b97d32",
   "metadata": {},
   "outputs": [],
   "source": [
    "mycursor.execute(\"INSERT INTO quaterly_marks VALUES(501,54,85,65,95,NULL,NULL)\")\n",
    "mycursor.execute(\"INSERT INTO quaterly_marks VALUES(502,94,56,85,42,NULL,NULL)\")\n",
    "mycursor.execute(\"INSERT INTO quaterly_marks VALUES(503,54,65,32,78,NULL,NULL)\")\n",
    "mycursor.execute(\"INSERT INTO quaterly_marks VALUES(504,78,65,94,85,NULL,NULL)\")\n",
    "mycursor.execute(\"INSERT INTO quaterly_marks VALUES(505,30,45,99,95,NULL,NULL)\")\n",
    "mydb.commit()"
   ]
  },
  {
   "cell_type": "code",
   "execution_count": 71,
   "id": "9e0ee6dc",
   "metadata": {},
   "outputs": [],
   "source": [
    "mycursor.execute(\"UPDATE quaterly_marks SET total=maths+science+social+english\")\n",
    "mycursor.execute(\"UPDATE quaterly_marks SET result='pass' WHERE maths>=35 and science>=35 and social>=35 and english>=35\")\n",
    "mycursor.execute(\"UPDATE quaterly_marks SET result='fail' WHERE maths<35 or science<35 or social<35 or english<35\")\n",
    "mydb.commit()"
   ]
  },
  {
   "cell_type": "code",
   "execution_count": 72,
   "id": "e4621267",
   "metadata": {},
   "outputs": [],
   "source": [
    "mycursor.execute(\"INSERT INTO halfyearly_marks VALUES(501,75,95,62,42,NULL,NULL)\")\n",
    "mycursor.execute(\"INSERT INTO halfyearly_marks VALUES(502,53,64,98,75,NULL,NULL)\")\n",
    "mycursor.execute(\"INSERT INTO halfyearly_marks VALUES(503,88,86,84,94,NULL,NULL)\")\n",
    "mycursor.execute(\"INSERT INTO halfyearly_marks VALUES(504,75,32,28,48,NULL,NULL)\")\n",
    "mycursor.execute(\"INSERT INTO halfyearly_marks VALUES(505,84,95,62,26,NULL,NULL)\")\n",
    "mydb.commit()"
   ]
  },
  {
   "cell_type": "code",
   "execution_count": 73,
   "id": "e31c77a1",
   "metadata": {},
   "outputs": [],
   "source": [
    "mycursor.execute(\"UPDATE halfyearly_marks SET total=maths+science+social+english\")\n",
    "mycursor.execute(\"UPDATE halfyearly_marks SET result='pass' WHERE maths>=35 and science>=35 and social>=35 and english>=35\")\n",
    "\n",
    "mycursor.execute(\"UPDATE halfyearly_marks SET result='fail' WHERE maths<35 or science<35 or social<35 or english<35\")\n",
    "mydb.commit()"
   ]
  },
  {
   "cell_type": "code",
   "execution_count": 74,
   "id": "b3255cdc",
   "metadata": {},
   "outputs": [],
   "source": [
    "mycursor.execute(\"INSERT INTO annual_marks VALUES(501,54,87,65,95,NULL,NULL)\")\n",
    "mycursor.execute(\"INSERT INTO annual_marks VALUES(502,92,56,20,42,NULL,NULL)\")\n",
    "mycursor.execute(\"INSERT INTO annual_marks VALUES(503,59,65,52,78,NULL,NULL)\")\n",
    "mycursor.execute(\"INSERT INTO annual_marks VALUES(504,78,65,94,84,NULL,NULL)\")\n",
    "mycursor.execute(\"INSERT INTO annual_marks VALUES(505,54,85,95,57,NULL,NULL)\")\n",
    "mydb.commit()"
   ]
  },
  {
   "cell_type": "code",
   "execution_count": 75,
   "id": "3a9aba6b",
   "metadata": {},
   "outputs": [],
   "source": [
    "mycursor.execute(\"UPDATE annual_marks SET total=maths+science+social+english\")\n",
    "mycursor.execute(\"UPDATE annual_marks SET result='pass' WHERE maths>=35 and science>=35 and social>=35 and english>=35\")\n",
    "mycursor.execute(\"UPDATE annual_marks SET result='fail' WHERE maths<35 or science<35 or social<35 or english<35\")\n",
    "mydb.commit()"
   ]
  },
  {
   "cell_type": "code",
   "execution_count": 84,
   "id": "c4714603",
   "metadata": {},
   "outputs": [],
   "source": [
    "mycursor.execute(\"INSERT INTO total_marks VALUES(501,299,274,301)\")\n",
    "mycursor.execute(\"INSERT INTO total_marks VALUES(502,277,290,210)\")\n",
    "mycursor.execute(\"INSERT INTO total_marks VALUES(503,229,352,254)\")\n",
    "mycursor.execute(\"INSERT INTO total_marks VALUES(504,322,183,321)\")\n",
    "mycursor.execute(\"INSERT INTO total_marks VALUES(505,269,267,291)\")\n",
    "mydb.commit()"
   ]
  },
  {
   "cell_type": "code",
   "execution_count": 15,
   "id": "98438fee",
   "metadata": {},
   "outputs": [],
   "source": [
    "mycursor.execute(\"INSERT INTO students VALUES(501,'Sainik',5,'A','paid')\")\n",
    "mycursor.execute(\"INSERT INTO students VALUES(502,'Ranvesh',5,'A','notpaid')\")\n",
    "mycursor.execute(\"INSERT INTO students VALUES(503,'Kashi',5,'B','paid')\")\n",
    "mycursor.execute(\"INSERT INTO students VALUES(504,'Shogun',5,'B','paid')\")\n",
    "mycursor.execute(\"INSERT INTO students VALUES(505,'Komal',5,'A','notpaid')\")\n",
    "\n",
    "mydb.commit()"
   ]
  },
  {
   "cell_type": "code",
   "execution_count": null,
   "id": "6ed5536a",
   "metadata": {},
   "outputs": [],
   "source": [
    "#All the stored procedures for module 1 in MYSQL are :\n",
    "Procedure:admin_add\n",
    "\n",
    "\n",
    "BEGIN\n",
    " INSERT INTO student_details(student_id,student_name,aadhar_number,father_name,mother_name,mobile,Class,section)VALUES (stid,sname,adhar,sfathname,smothname,mob,uclass,usec);\n",
    "\n",
    "END\n",
    "\n",
    "--------------------------------------------------------------------------------\n",
    "Procedure:admin_delete\n",
    "\n",
    "BEGIN\n",
    "DELETE FROM student_details\n",
    "WHERE student_id=studId;\n",
    " \n",
    "END\n",
    "\n",
    "---------------------------------------------------------------------------------\n",
    "Prcedure:admin_update\n",
    "\n",
    "BEGIN\n",
    "UPDATE student_details\n",
    "SET student_name = sname,aadhar_number=adhar,father_name=father,mother_name=mother,mobile=mob,Class=uclass,section=usection\n",
    "WHERE student_id = studId;\n",
    "\n",
    "END\n",
    "\n",
    "-----------------------------------------------------------------------------------\n",
    "Procedure:admin_view\n",
    "\n",
    "BEGIN\n",
    "SELECT * FROM student_details WHERE student_id=stid;\n",
    "\n",
    "END\n"
   ]
  },
  {
   "cell_type": "code",
   "execution_count": null,
   "id": "21155934",
   "metadata": {},
   "outputs": [],
   "source": [
    "#All Stored procedures for module2 are:\n",
    "\n",
    "teach_entry_quater:\n",
    "\n",
    "BEGIN\n",
    "\n",
    "INSERT INTO quaterly_marks(student_id,maths,science,social,english,total,result)VALUES(studId,math,sci,soc,eng,utotal,res);\n",
    "\n",
    "END\n",
    "\n",
    "-----------------------------------------------------------\n",
    "teach_entry_halfyearly\n",
    "\n",
    "BEGIN\n",
    "\n",
    "INSERT INTO halfyearly_marks(student_id,maths,science,social,english,total,result)VALUES(studId,math,sci,soc,eng,utotal,res);\n",
    "\n",
    "END\n",
    "\n",
    "----------------------------------------------------------------\n",
    "teacher_entry_annual\n",
    "\n",
    "\n",
    "\n",
    "BEGIN\n",
    "\n",
    "INSERT INTO annual_marks(student_id,maths,science,social,english,total,result)VALUES(studId,math,sci,soc,eng,utotal,res);\n",
    "\n",
    "END\n",
    "\n",
    "-----------------------------------------------------------------\n",
    "filter_fail_maths\n",
    "\n",
    "BEGIN\n",
    "\n",
    "SELECT student_details.student_id,student_details.student_name\n",
    "FROM student_details\n",
    "WHERE student_details.student_id IN(\n",
    "    SELECT quaterly_marks.student_id\n",
    "    FROM quaterly_marks\n",
    "    WHERE quaterly_marks.maths <35\n",
    "    UNION\n",
    "    SELECT halfyearly_marks.student_id\n",
    "    FROM halfyearly_marks\n",
    "    WHERE halfyearly_marks.maths <35\n",
    "    UNION\n",
    "    SELECT annual_marks.student_id\n",
    "    FROM annual_marks\n",
    "    WHERE annual_marks.maths <35\n",
    "\n",
    ");\n",
    "\n",
    "END\n",
    "\n",
    "----------------------------------------------------------------------\n",
    "filter_fail_science\n",
    "\n",
    "BEGIN\n",
    "SELECT student_details.student_id,student_details.student_name\n",
    "FROM student_details\n",
    "WHERE student_details.student_id IN(\n",
    "    SELECT quaterly_marks.student_id\n",
    "    FROM quaterly_marks\n",
    "    WHERE quaterly_marks.science <35\n",
    "    UNION\n",
    "    SELECT halfyearly_marks.student_id\n",
    "    FROM halfyearly_marks\n",
    "    WHERE halfyearly_marks.science <35\n",
    "    UNION\n",
    "    SELECT annual_marks.student_id\n",
    "    FROM annual_marks\n",
    "    WHERE annual_marks.science <35\n",
    "\n",
    ");\n",
    "\n",
    "\n",
    "END\n",
    "\n",
    "----------------------------------------------------------------------\n",
    "filter_fail_social\n",
    "\n",
    "BEGIN\n",
    "SELECT student_details.student_id,student_details.student_name\n",
    "FROM student_details\n",
    "WHERE student_details.student_id IN(\n",
    "    SELECT quaterly_marks.student_id\n",
    "    FROM quaterly_marks\n",
    "    WHERE quaterly_marks.social <35\n",
    "    UNION\n",
    "    SELECT halfyearly_marks.student_id\n",
    "    FROM halfyearly_marks\n",
    "    WHERE halfyearly_marks.social <35\n",
    "    UNION\n",
    "    SELECT annual_marks.student_id\n",
    "    FROM annual_marks\n",
    "    WHERE annual_marks.social <35\n",
    "\n",
    ");\n",
    "END\n",
    "\n",
    "------------------------------------------------------------------\n",
    "filter_fail_english\n",
    "\n",
    "BEGIN\n",
    "SELECT student_details.student_id,student_details.student_name\n",
    "FROM student_details\n",
    "WHERE student_details.student_id IN(\n",
    "    SELECT quaterly_marks.student_id\n",
    "    FROM quaterly_marks\n",
    "    WHERE quaterly_marks.english <35\n",
    "    UNION\n",
    "    SELECT halfyearly_marks.student_id\n",
    "    FROM halfyearly_marks\n",
    "    WHERE halfyearly_marks.english <35\n",
    "    UNION\n",
    "    SELECT annual_marks.student_id\n",
    "    FROM annual_marks\n",
    "    WHERE annual_marks.english <35\n",
    "\n",
    ");\n",
    "END\n",
    "\n",
    "\n"
   ]
  },
  {
   "cell_type": "code",
   "execution_count": null,
   "id": "75b5148c",
   "metadata": {},
   "outputs": [],
   "source": []
  },
  {
   "cell_type": "code",
   "execution_count": null,
   "id": "a8b5757d",
   "metadata": {},
   "outputs": [],
   "source": []
  },
  {
   "cell_type": "code",
   "execution_count": 4,
   "id": "a45365b5",
   "metadata": {},
   "outputs": [],
   "source": [
    "mycursor.execute(\"USE school_new\")"
   ]
  },
  {
   "cell_type": "code",
   "execution_count": 5,
   "id": "27dfdd26",
   "metadata": {},
   "outputs": [
    {
     "name": "stdout",
     "output_type": "stream",
     "text": [
      "502\n",
      "(502, 'Ranvesh', '856426987552', 'Ramesh', 'Tejapriya', '8547625695', 5, 'A')\n"
     ]
    }
   ],
   "source": [
    "#Calling stored procedure admin_view\n",
    "\n",
    "\n",
    "mycursor.callproc('admin_view',[input(),])\n",
    "\n",
    "for result in mycursor.stored_results():\n",
    "    rlist=result.fetchall()\n",
    "    for row in rlist:\n",
    "        print(row)"
   ]
  },
  {
   "cell_type": "code",
   "execution_count": 14,
   "id": "83204415",
   "metadata": {},
   "outputs": [
    {
     "name": "stdout",
     "output_type": "stream",
     "text": [
      "studentId: 507\n",
      "studentname: Sanath\n",
      "Aadhar: 856425658\n",
      "Father: Devender\n",
      "Mother: fathima\n",
      "Mobile: 95684256\n",
      "Class: 5\n",
      "Section: A\n",
      "updated succesfully\n"
     ]
    }
   ],
   "source": [
    "#calling stored procedure admin_update\n",
    "\n",
    "\n",
    "mycursor.callproc('admin_update',[input(\"studentId: \"),input(\"studentname: \"),input(\"Aadhar: \"),input(\"Father: \"),input(\"Mother: \"),input(\"Mobile: \"),input(\"Class: \"),input(\"Section: \"),])\n",
    "\n",
    "print(\"updated succesfully\")\n",
    "\n",
    "mydb.commit()\n"
   ]
  },
  {
   "cell_type": "code",
   "execution_count": 15,
   "id": "a538c35e",
   "metadata": {},
   "outputs": [
    {
     "name": "stdout",
     "output_type": "stream",
     "text": [
      "studentId: 506\n",
      "studentname: Anurag\n",
      "Aadhar: 95864526\n",
      "Father: Sreekar\n",
      "Mother: Kanika\n",
      "Mobile: 98565452\n",
      "Class: 5\n",
      "Section: D\n",
      "Added succesfully.\n"
     ]
    }
   ],
   "source": [
    "#calling procedure admin_add\n",
    "\n",
    "mycursor.callproc('admin_add',[input(\"studentId: \"),input(\"studentname: \"),input(\"Aadhar: \"),input(\"Father: \"),input(\"Mother: \"),input(\"Mobile: \"),input(\"Class: \"),input(\"Section: \"),])\n",
    "\n",
    "print(\"Added succesfully.\")\n",
    "\n",
    "mydb.commit()\n"
   ]
  },
  {
   "cell_type": "code",
   "execution_count": 13,
   "id": "6b2a745f",
   "metadata": {},
   "outputs": [
    {
     "name": "stdout",
     "output_type": "stream",
     "text": [
      "studentId to be deleted: 506\n",
      "Deleted succesfully.\n"
     ]
    }
   ],
   "source": [
    "#calling procedure admin_delete\n",
    "\n",
    "mycursor.callproc('admin_delete',[input(\"studentId to be deleted: \"),])\n",
    "print(\"Deleted succesfully.\")\n",
    "\n",
    "mydb.commit()\n"
   ]
  },
  {
   "cell_type": "code",
   "execution_count": 17,
   "id": "1ed38cb0",
   "metadata": {},
   "outputs": [
    {
     "name": "stdout",
     "output_type": "stream",
     "text": [
      "studentId: 506\n",
      "Maths: 80\n",
      "Science: 90\n",
      "Social: 40\n",
      "English: 60\n",
      "Total: 270\n",
      "Result: Pass\n",
      "Marks added succesfully.\n"
     ]
    }
   ],
   "source": [
    "#Calling stored procedure to enter quaterly marks using student_id\n",
    "\n",
    "mycursor.callproc('teach_entry_quater',[input(\"studentId: \"),input(\"Maths: \"),input(\"Science: \"),input(\"Social: \"),input(\"English: \"),input(\"Total: \"),input(\"Result: \"),])\n",
    "\n",
    "print(\"Marks added succesfully.\")\n",
    "\n",
    "mydb.commit()\n"
   ]
  },
  {
   "cell_type": "code",
   "execution_count": 18,
   "id": "b5d4472c",
   "metadata": {},
   "outputs": [
    {
     "name": "stdout",
     "output_type": "stream",
     "text": [
      "studentId: 506\n",
      "Maths: 60\n",
      "Science: 55\n",
      "Social: 35\n",
      "English: 90\n",
      "Total: 240\n",
      "Result: Pass\n",
      "Marks added succesfully.\n"
     ]
    }
   ],
   "source": [
    "#Calling stored procedure to enter halfyearly marks using student_id\n",
    "\n",
    "mycursor.callproc('teach_entry_halfyearly',[input(\"studentId: \"),input(\"Maths: \"),input(\"Science: \"),input(\"Social: \"),input(\"English: \"),input(\"Total: \"),input(\"Result: \"),])\n",
    "\n",
    "print(\"Marks added succesfully.\")\n",
    "\n",
    "mydb.commit()"
   ]
  },
  {
   "cell_type": "code",
   "execution_count": 20,
   "id": "d01578f9",
   "metadata": {},
   "outputs": [
    {
     "name": "stdout",
     "output_type": "stream",
     "text": [
      "studentId: 506\n",
      "Maths: 56\n",
      "Science: 84\n",
      "Social: 66\n",
      "English: 54\n",
      "Total: 260\n",
      "Result: Pass\n",
      "Marks added succesfully.\n"
     ]
    }
   ],
   "source": [
    "#Calling stored procedure to enter annual marks using student_id\n",
    "\n",
    "mycursor.callproc('teacher_entry_annual',[input(\"studentId: \"),input(\"Maths: \"),input(\"Science: \"),input(\"Social: \"),input(\"English: \"),input(\"Total: \"),input(\"Result: \"),])\n",
    "\n",
    "print(\"Marks added succesfully.\")\n",
    "\n",
    "mydb.commit()"
   ]
  },
  {
   "cell_type": "code",
   "execution_count": 21,
   "id": "ee25c269",
   "metadata": {},
   "outputs": [
    {
     "name": "stdout",
     "output_type": "stream",
     "text": [
      "(505, 'Komal')\n"
     ]
    }
   ],
   "source": [
    "#Filtering students failed in MATHS subject in all exams \n",
    "\n",
    "mycursor.callproc('filter_fail_maths',)\n",
    "for result in mycursor.stored_results():\n",
    "    rlist=result.fetchall()\n",
    "    for row in rlist:\n",
    "        print(row)\n"
   ]
  },
  {
   "cell_type": "code",
   "execution_count": 22,
   "id": "e6db8c22",
   "metadata": {},
   "outputs": [
    {
     "name": "stdout",
     "output_type": "stream",
     "text": [
      "(504, 'Shogun')\n"
     ]
    }
   ],
   "source": [
    "#Filtering students failed in SCIENCE subject in all exams \n",
    "\n",
    "mycursor.callproc('filter_fail_science',)\n",
    "for result in mycursor.stored_results():\n",
    "    rlist=result.fetchall()\n",
    "    for row in rlist:\n",
    "        print(row)\n"
   ]
  },
  {
   "cell_type": "code",
   "execution_count": 25,
   "id": "10c3dcfa",
   "metadata": {},
   "outputs": [
    {
     "name": "stdout",
     "output_type": "stream",
     "text": [
      "(502, 'Ranvesh')\n",
      "(503, 'Kashi')\n",
      "(504, 'Shogun')\n"
     ]
    }
   ],
   "source": [
    "#Filtering students failed in SOCIAL subject in all exams \n",
    "\n",
    "mycursor.callproc('filter_fail_social',)\n",
    "for result in mycursor.stored_results():\n",
    "    rlist=result.fetchall()\n",
    "    for row in rlist:\n",
    "        print(row)"
   ]
  },
  {
   "cell_type": "code",
   "execution_count": 26,
   "id": "a3bc3569",
   "metadata": {},
   "outputs": [
    {
     "name": "stdout",
     "output_type": "stream",
     "text": [
      "(505, 'Komal')\n"
     ]
    }
   ],
   "source": [
    "#Filtering students failed in ENGLISH subject in all exams \n",
    "\n",
    "mycursor.callproc('filter_fail_english',)\n",
    "for result in mycursor.stored_results():\n",
    "    rlist=result.fetchall()\n",
    "    for row in rlist:\n",
    "        print(row)"
   ]
  }
 ],
 "metadata": {
  "kernelspec": {
   "display_name": "Python 3 (ipykernel)",
   "language": "python",
   "name": "python3"
  },
  "language_info": {
   "codemirror_mode": {
    "name": "ipython",
    "version": 3
   },
   "file_extension": ".py",
   "mimetype": "text/x-python",
   "name": "python",
   "nbconvert_exporter": "python",
   "pygments_lexer": "ipython3",
   "version": "3.9.12"
  }
 },
 "nbformat": 4,
 "nbformat_minor": 5
}
